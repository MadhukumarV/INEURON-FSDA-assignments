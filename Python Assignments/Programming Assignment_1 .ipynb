{
 "cells": [
  {
   "cell_type": "markdown",
   "id": "637b47a5",
   "metadata": {},
   "source": [
    "## Programming Assignment_1\n",
    "-------------"
   ]
  },
  {
   "cell_type": "markdown",
   "id": "0c647dbe",
   "metadata": {},
   "source": [
    "### 1. Write a Python program to print \"Hello Python\"?"
   ]
  },
  {
   "cell_type": "code",
   "execution_count": 1,
   "id": "51bf4b93-4d06-46f2-9b36-f520a9d6102b",
   "metadata": {},
   "outputs": [
    {
     "name": "stdout",
     "output_type": "stream",
     "text": [
      "Hello Python\n"
     ]
    }
   ],
   "source": [
    "x = \"Hello Python\"\n",
    "print(x)"
   ]
  },
  {
   "cell_type": "markdown",
   "id": "fc18a6cd",
   "metadata": {},
   "source": [
    "### 2. Write a Python program to do arithmetical operations addition and division.?\n"
   ]
  },
  {
   "cell_type": "code",
   "execution_count": 8,
   "id": "f3f88a09-0d4f-4eae-bdfe-0b9441045c35",
   "metadata": {},
   "outputs": [
    {
     "name": "stdout",
     "output_type": "stream",
     "text": [
      "Enter the Number: 666\n",
      "Enter the Number: 666\n"
     ]
    },
    {
     "name": "stdout",
     "output_type": "stream",
     "text": [
      "Addition is : 1332\n",
      "Division is: 1.0\n"
     ]
    }
   ],
   "source": [
    "a = int(input(\"Enter the Number:\"))\n",
    "b = int(input(\"Enter the Number:\") )\n",
    "c = a+b\n",
    "d = a/b\n",
    "print(\"Addition is :\",c)\n",
    "print(\"Division is:\",d)"
   ]
  },
  {
   "cell_type": "markdown",
   "id": "af6e2429",
   "metadata": {},
   "source": [
    "### 3. Write a Python program to find the area of a triangle?\n"
   ]
  },
  {
   "cell_type": "code",
   "execution_count": 9,
   "id": "9825a625-5c69-4b81-a0b8-7fbac450d119",
   "metadata": {},
   "outputs": [
    {
     "name": "stdout",
     "output_type": "stream",
     "text": [
      "Enter the Base: 9\n",
      "Enter the Height: 5\n"
     ]
    },
    {
     "name": "stdout",
     "output_type": "stream",
     "text": [
      "Area of the Triangle is: 22.5\n"
     ]
    }
   ],
   "source": [
    "Base = int(input(\"Enter the Base:\"))\n",
    "Height = int(input(\"Enter the Height:\"))\n",
    "\n",
    "area = Base*Height/2\n",
    "print(\"Area of the Triangle is:\",area)"
   ]
  },
  {
   "cell_type": "markdown",
   "id": "b8140061",
   "metadata": {},
   "source": [
    "### 4. Write a Python program to swap two variables?\n"
   ]
  },
  {
   "cell_type": "code",
   "execution_count": 17,
   "id": "f1dcaea3-8523-4cb1-8877-fa8e2a5090c8",
   "metadata": {},
   "outputs": [
    {
     "name": "stdout",
     "output_type": "stream",
     "text": [
      "Enter value of x:  66\n",
      "Enter value of y:  99\n"
     ]
    },
    {
     "name": "stdout",
     "output_type": "stream",
     "text": [
      "After swapping x value is:99\n",
      "After swapping y value is:66\n"
     ]
    }
   ],
   "source": [
    "x = input('Enter value of x: ')\n",
    "y = input('Enter value of y: ')\n",
    "z = x\n",
    "x = y\n",
    "y = z\n",
    "print(\"After swapping x value is:{}\".format(x))\n",
    "print(\"After swapping y value is:{}\".format(y))"
   ]
  },
  {
   "cell_type": "markdown",
   "id": "3f8054c1",
   "metadata": {},
   "source": [
    "### 5. Write a Python program to generate a random number?\n"
   ]
  },
  {
   "cell_type": "code",
   "execution_count": 25,
   "id": "04fa07f0-7f1a-4ee5-8619-a581d3221420",
   "metadata": {},
   "outputs": [
    {
     "name": "stdout",
     "output_type": "stream",
     "text": [
      "3774746149\n"
     ]
    }
   ],
   "source": [
    "import random\n",
    "print(random.randint(1,10000000000))"
   ]
  },
  {
   "cell_type": "code",
   "execution_count": null,
   "id": "6b276cc2-d403-424a-9700-88f4621eb1a7",
   "metadata": {},
   "outputs": [],
   "source": []
  }
 ],
 "metadata": {
  "kernelspec": {
   "display_name": "Python 3 (ipykernel)",
   "language": "python",
   "name": "python3"
  },
  "language_info": {
   "codemirror_mode": {
    "name": "ipython",
    "version": 3
   },
   "file_extension": ".py",
   "mimetype": "text/x-python",
   "name": "python",
   "nbconvert_exporter": "python",
   "pygments_lexer": "ipython3",
   "version": "3.10.6"
  }
 },
 "nbformat": 4,
 "nbformat_minor": 5
}
