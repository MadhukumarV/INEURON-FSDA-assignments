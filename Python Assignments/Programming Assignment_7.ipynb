{
 "cells": [
  {
   "cell_type": "markdown",
   "id": "35297a20",
   "metadata": {},
   "source": [
    "## Programming Basic Assignment 7"
   ]
  },
  {
   "cell_type": "markdown",
   "id": "27349114",
   "metadata": {},
   "source": [
    "### 1. Write a Python Program to find sum of array?"
   ]
  },
  {
   "cell_type": "code",
   "execution_count": 3,
   "id": "f0bb3d81",
   "metadata": {},
   "outputs": [
    {
     "name": "stdout",
     "output_type": "stream",
     "text": [
      "Enter an array of numbers separated by spaces: 1 2 9 34 5 \n",
      "Sum of array: 51\n"
     ]
    }
   ],
   "source": [
    "def sum_array(arr):\n",
    "    \"\"\"\n",
    "    This function takes an array as input and returns the sum of its elements.\n",
    "    \"\"\"\n",
    "    sum = 0\n",
    "    for i in arr:\n",
    "        sum += i\n",
    "    return sum\n",
    "\n",
    "# Ask user for array input\n",
    "arr_str = input(\"Enter an array of numbers separated by spaces: \")\n",
    "\n",
    "# Convert string input to list of integers\n",
    "arr = [int(i) for i in arr_str.split()]\n",
    "\n",
    "# Call sum_array function to calculate sum of array\n",
    "print(\"Sum of array:\", sum_array(arr))\n",
    "\n"
   ]
  },
  {
   "cell_type": "markdown",
   "id": "171a980d",
   "metadata": {},
   "source": [
    "### 2. Write a Python Program to find largest element in an array?\n"
   ]
  },
  {
   "cell_type": "code",
   "execution_count": 4,
   "id": "a126eeb6",
   "metadata": {},
   "outputs": [
    {
     "name": "stdout",
     "output_type": "stream",
     "text": [
      "Enter an array of numbers separated by spaces: 2 5 7 9 5 1\n",
      "Largest element in array: 9\n"
     ]
    }
   ],
   "source": [
    "def find_largest(arr):\n",
    "    \"\"\"\n",
    "    This function takes an array as input and returns the largest element.\n",
    "    \"\"\"\n",
    "    largest = arr[0]\n",
    "    for i in arr:\n",
    "        if i > largest:\n",
    "            largest = i\n",
    "    return largest\n",
    "\n",
    "# Ask user for array input\n",
    "arr_str = input(\"Enter an array of numbers separated by spaces: \")\n",
    "\n",
    "# Convert string input to list of integers\n",
    "arr = [int(i) for i in arr_str.split()]\n",
    "\n",
    "# Call find_largest function to find largest element in array\n",
    "print(\"Largest element in array:\", find_largest(arr))\n"
   ]
  },
  {
   "cell_type": "markdown",
   "id": "21613246",
   "metadata": {},
   "source": [
    "### 3. Write a Python Program for array rotation?"
   ]
  },
  {
   "cell_type": "code",
   "execution_count": 6,
   "id": "d892011c",
   "metadata": {},
   "outputs": [
    {
     "name": "stdout",
     "output_type": "stream",
     "text": [
      "Enter an array of numbers separated by spaces: 8 9 3 4 7 2 1\n",
      "Enter the number of positions to rotate: 5\n",
      "Rotated array: [2, 1, 8, 9, 3, 4, 7]\n"
     ]
    }
   ],
   "source": [
    "def rotate_array(arr, k):\n",
    "    \"\"\"\n",
    "    This function takes an array and a number of positions to rotate as input\n",
    "    and returns the rotated array.\n",
    "    \"\"\"\n",
    "    n = len(arr)\n",
    "    k = k % n # Handle cases where k is greater than n\n",
    "    rotated = arr[k:] + arr[:k]\n",
    "    return rotated\n",
    "\n",
    "# Ask user for array input\n",
    "arr_str = input(\"Enter an array of numbers separated by spaces: \")\n",
    "\n",
    "# Convert string input to list of integers\n",
    "arr = [int(i) for i in arr_str.split()]\n",
    "\n",
    "# Ask user for number of positions to rotate\n",
    "k = int(input(\"Enter the number of positions to rotate: \"))\n",
    "\n",
    "# Call rotate_array function to rotate array\n",
    "rotated_arr = rotate_array(arr, k)\n",
    "\n",
    "# Print rotated array\n",
    "print(\"Rotated array:\", rotated_arr)\n"
   ]
  },
  {
   "cell_type": "markdown",
   "id": "3e52d939",
   "metadata": {},
   "source": [
    "### 4. Write a Python Program to Split the array and add the first part to the end?"
   ]
  },
  {
   "cell_type": "code",
   "execution_count": 7,
   "id": "b82916d1",
   "metadata": {},
   "outputs": [
    {
     "name": "stdout",
     "output_type": "stream",
     "text": [
      "Enter an array of numbers separated by spaces: 1 2 3 4 5 6 \n",
      "Enter the number of elements to split: 3\n",
      "Modified array: [4, 5, 6, 1, 2, 3]\n"
     ]
    }
   ],
   "source": [
    "def split_and_add(arr, k):\n",
    "    \"\"\"\n",
    "    This function takes an array and a number of elements to split as input\n",
    "    and returns the modified array where the first k elements are added to the end.\n",
    "    \"\"\"\n",
    "    n = len(arr)\n",
    "    split = arr[:k]\n",
    "    modified = arr[k:] + split\n",
    "    return modified\n",
    "\n",
    "# Ask user for array input\n",
    "arr_str = input(\"Enter an array of numbers separated by spaces: \")\n",
    "\n",
    "# Convert string input to list of integers\n",
    "arr = [int(i) for i in arr_str.split()]\n",
    "\n",
    "# Ask user for number of elements to split\n",
    "k = int(input(\"Enter the number of elements to split: \"))\n",
    "\n",
    "# Call split_and_add function to split array and add first part to end\n",
    "modified_arr = split_and_add(arr, k)\n",
    "\n",
    "# Print modified array\n",
    "print(\"Modified array:\", modified_arr)\n"
   ]
  },
  {
   "cell_type": "markdown",
   "id": "aa375779",
   "metadata": {},
   "source": [
    "### 5. Write a Python Program to check if given array is Monotonic?"
   ]
  },
  {
   "cell_type": "code",
   "execution_count": 9,
   "id": "0b54aa8f",
   "metadata": {},
   "outputs": [
    {
     "name": "stdout",
     "output_type": "stream",
     "text": [
      "Enter an array of numbers separated by spaces: 1 1 1 1 1 1 1 1 1 1 1 1 \n",
      "The array is monotonic\n"
     ]
    }
   ],
   "source": [
    "def is_monotonic(arr):\n",
    "    \"\"\"\n",
    "    This function takes an array as input and returns True if the array is monotonic\n",
    "    (either increasing or decreasing), and False otherwise.\n",
    "    \"\"\"\n",
    "    n = len(arr)\n",
    "    increasing = decreasing = True\n",
    "    for i in range(1, n):\n",
    "        if arr[i] < arr[i-1]:\n",
    "            increasing = False\n",
    "        if arr[i] > arr[i-1]:\n",
    "            decreasing = False\n",
    "        if not increasing and not decreasing:\n",
    "            return False\n",
    "    return True\n",
    "\n",
    "# Ask user for array input\n",
    "arr_str = input(\"Enter an array of numbers separated by spaces: \")\n",
    "\n",
    "# Convert string input to list of integers\n",
    "arr = [int(i) for i in arr_str.split()]\n",
    "\n",
    "# Call is_monotonic function to check if array is monotonic\n",
    "if is_monotonic(arr):\n",
    "    print(\"The array is monotonic\")\n",
    "else:\n",
    "    print(\"The array is not monotonic\")\n"
   ]
  },
  {
   "cell_type": "code",
   "execution_count": null,
   "id": "071fbf9b",
   "metadata": {},
   "outputs": [],
   "source": []
  }
 ],
 "metadata": {
  "kernelspec": {
   "display_name": "Python 3 (ipykernel)",
   "language": "python",
   "name": "python3"
  },
  "language_info": {
   "codemirror_mode": {
    "name": "ipython",
    "version": 3
   },
   "file_extension": ".py",
   "mimetype": "text/x-python",
   "name": "python",
   "nbconvert_exporter": "python",
   "pygments_lexer": "ipython3",
   "version": "3.11.3"
  }
 },
 "nbformat": 4,
 "nbformat_minor": 5
}
