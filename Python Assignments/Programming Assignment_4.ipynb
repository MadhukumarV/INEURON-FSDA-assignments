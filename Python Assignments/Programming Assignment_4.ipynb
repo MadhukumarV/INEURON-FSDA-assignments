{
 "cells": [
  {
   "cell_type": "markdown",
   "id": "20cb4340",
   "metadata": {
    "id": "20cb4340"
   },
   "source": [
    "## Programming Assignment_4\n",
    "----------------"
   ]
  },
  {
   "cell_type": "markdown",
   "id": "4fdb6695",
   "metadata": {
    "id": "4fdb6695"
   },
   "source": [
    "### 1. Write a Python Program to Find the Factorial of a Number?"
   ]
  },
  {
   "cell_type": "code",
   "execution_count": 2,
   "id": "hOeAnUwS8YPP",
   "metadata": {
    "id": "hOeAnUwS8YPP"
   },
   "outputs": [
    {
     "name": "stdout",
     "output_type": "stream",
     "text": [
      "Enter the Number: 4\n"
     ]
    },
    {
     "name": "stdout",
     "output_type": "stream",
     "text": [
      "The factorial of 4 is 24\n"
     ]
    }
   ],
   "source": [
    "num = int(input(\"Enter the Number:\"))\n",
    "\n",
    "factorial = 1\n",
    "\n",
    "if num < 0:\n",
    "    print(\"Sorry, factorial does not exist for negative numbers\")\n",
    "elif num == 0:\n",
    "    print(\"The factorial of 0 is 1\")\n",
    "else:\n",
    "    for i in range(1,num + 1):\n",
    "        factorial = factorial*i\n",
    "    print(\"The factorial of\",num,\"is\",factorial)"
   ]
  },
  {
   "cell_type": "markdown",
   "id": "e6beef62",
   "metadata": {
    "id": "e6beef62"
   },
   "source": [
    "### 2. Write a Python Program to Display the multiplication Table?"
   ]
  },
  {
   "cell_type": "code",
   "execution_count": 6,
   "id": "fdfac45e-d97a-4d38-8b4d-7e8a10ee7d2e",
   "metadata": {
    "id": "-DGZq5N22z65"
   },
   "outputs": [
    {
     "name": "stdout",
     "output_type": "stream",
     "text": [
      "Enter the Number to Multiply: 19\n"
     ]
    },
    {
     "name": "stdout",
     "output_type": "stream",
     "text": [
      "19 x 1 = 19\n",
      "19 x 2 = 38\n",
      "19 x 3 = 57\n",
      "19 x 4 = 76\n",
      "19 x 5 = 95\n",
      "19 x 6 = 114\n",
      "19 x 7 = 133\n",
      "19 x 8 = 152\n",
      "19 x 9 = 171\n",
      "19 x 10 = 190\n"
     ]
    }
   ],
   "source": [
    "num = int(input(\"Enter the Number to Multiply:\"))\n",
    "for i in range(1, 11):\n",
    "    print(num, \"x\", i, '=', num*i)"
   ]
  },
  {
   "cell_type": "markdown",
   "id": "7de7eba5",
   "metadata": {
    "id": "7de7eba5"
   },
   "source": [
    "### 3. Write a Python Program to Print the Fibonacci sequence?\n"
   ]
  },
  {
   "cell_type": "code",
   "execution_count": 9,
   "id": "d48fe918-640e-40e2-a3ca-88aa7f82b02e",
   "metadata": {},
   "outputs": [
    {
     "name": "stdout",
     "output_type": "stream",
     "text": [
      "How many terms?  9\n"
     ]
    },
    {
     "name": "stdout",
     "output_type": "stream",
     "text": [
      "Fibonacci sequence:\n",
      "0\n",
      "1\n",
      "1\n",
      "2\n",
      "3\n",
      "5\n",
      "8\n",
      "13\n",
      "21\n"
     ]
    }
   ],
   "source": [
    "\n",
    "\n",
    "nterms = int(input(\"How many terms? \"))\n",
    "\n",
    "\n",
    "n1, n2 = 0, 1\n",
    "count = 0\n",
    "\n",
    "\n",
    "if nterms <= 0:\n",
    "    print(\"Please enter a positive integer\")\n",
    "\n",
    "elif nterms == 1:\n",
    "    print(\"Fibonacci sequence upto\",nterms,\":\")\n",
    "    print(n1)\n",
    "\n",
    "else:\n",
    "    print(\"Fibonacci sequence:\")\n",
    "    while count < nterms:\n",
    "        print(n1)\n",
    "        nth = n1 + n2\n",
    "    \n",
    "        n1 = n2\n",
    "        n2 = nth\n",
    "        count += 1"
   ]
  },
  {
   "cell_type": "markdown",
   "id": "0446442e",
   "metadata": {
    "id": "0446442e"
   },
   "source": [
    "### 4. Write a Python Program to Check Armstrong Number?"
   ]
  },
  {
   "cell_type": "code",
   "execution_count": 13,
   "id": "da33d87b-dd4f-4c83-ab34-e743b62cb665",
   "metadata": {},
   "outputs": [
    {
     "name": "stdout",
     "output_type": "stream",
     "text": [
      "Enter a number:  507\n"
     ]
    },
    {
     "name": "stdout",
     "output_type": "stream",
     "text": [
      "507 is not an Armstrong number\n"
     ]
    }
   ],
   "source": [
    "# Python program to check if the number is an Armstrong number or not\n",
    "\n",
    "# take input from the user\n",
    "num = int(input(\"Enter a number: \"))\n",
    "\n",
    "# initialize sum\n",
    "sum = 0\n",
    "\n",
    "# find the sum of the cube of each digit\n",
    "temp = num\n",
    "while temp > 0:\n",
    "    digit = temp % 10\n",
    "    sum += digit ** 3\n",
    "    temp //= 10\n",
    "\n",
    "# display the result\n",
    "if num == sum:\n",
    "    print(num,\"is an Armstrong number\")\n",
    "else:\n",
    "    print(num,\"is not an Armstrong number\")"
   ]
  },
  {
   "cell_type": "markdown",
   "id": "a6f9adfe",
   "metadata": {
    "id": "a6f9adfe"
   },
   "source": [
    "### 5. Write a Python Program to Find Armstrong Number in an Interval?"
   ]
  },
  {
   "cell_type": "code",
   "execution_count": 36,
   "id": "afd5c937-79d3-4a27-b40f-7c6bade24abd",
   "metadata": {
    "id": "qbmbp0_822o1"
   },
   "outputs": [
    {
     "name": "stdout",
     "output_type": "stream",
     "text": [
      "Enter the Lower Number: 100\n",
      "Enter the Upper Number: 2000\n"
     ]
    },
    {
     "name": "stdout",
     "output_type": "stream",
     "text": [
      "The Armstrong numbers are:  153\n",
      "The Armstrong numbers are:  370\n",
      "The Armstrong numbers are:  371\n",
      "The Armstrong numbers are:  407\n",
      "The Armstrong numbers are:  1634\n"
     ]
    }
   ],
   "source": [
    "lwr  = int(input(\"Enter the Lower Number:\"))\n",
    "uppr = int(input(\"Enter the Upper Number:\"))\n",
    "\n",
    "for numb in range(lwr, uppr + 1):\n",
    "    \n",
    "# order of number\n",
    "    odr = len(str(numb))\n",
    "# initialize sum\n",
    "    sum = 0\n",
    "    tem = numb\n",
    "\n",
    "    while tem > 0:\n",
    "\n",
    "        digit = tem % 10\n",
    "\n",
    "        sum += digit ** odr\n",
    "\n",
    "        tem //= 10\n",
    "\n",
    "\n",
    "\n",
    "    if numb == sum:\n",
    "\n",
    "        print(\"The Armstrong numbers are: \",numb)\n",
    "\n",
    "                "
   ]
  },
  {
   "cell_type": "markdown",
   "id": "157cad60",
   "metadata": {
    "id": "157cad60"
   },
   "source": [
    "### 6. Write a Python Program to Find the Sum of Natural Numbers?"
   ]
  },
  {
   "cell_type": "code",
   "execution_count": 38,
   "id": "3cab6ea6-9ed0-4a05-9fff-c44d45406cbe",
   "metadata": {},
   "outputs": [
    {
     "name": "stdout",
     "output_type": "stream",
     "text": [
      "Enter the Number: 16\n"
     ]
    },
    {
     "name": "stdout",
     "output_type": "stream",
     "text": [
      "The sum is 136\n"
     ]
    }
   ],
   "source": [
    "# Sum of natural numbers up to num\n",
    "\n",
    "num =int(input(\"Enter the Number:\"))\n",
    "\n",
    "if num < 0:\n",
    "    print(\"Enter a positive number\")\n",
    "else:\n",
    "    sum = 0\n",
    "   # use while loop to iterate until zero\n",
    "   while(num > 0):\n",
    "       sum += num\n",
    "       num -= 1\n",
    "   print(\"The sum is\", sum)"
   ]
  },
  {
   "cell_type": "code",
   "execution_count": null,
   "id": "4ed24d81-9991-4dc9-8695-37515025e4af",
   "metadata": {},
   "outputs": [],
   "source": []
  }
 ],
 "metadata": {
  "colab": {
   "provenance": []
  },
  "kernelspec": {
   "display_name": "Python 3 (ipykernel)",
   "language": "python",
   "name": "python3"
  },
  "language_info": {
   "codemirror_mode": {
    "name": "ipython",
    "version": 3
   },
   "file_extension": ".py",
   "mimetype": "text/x-python",
   "name": "python",
   "nbconvert_exporter": "python",
   "pygments_lexer": "ipython3",
   "version": "3.10.6"
  }
 },
 "nbformat": 4,
 "nbformat_minor": 5
}
