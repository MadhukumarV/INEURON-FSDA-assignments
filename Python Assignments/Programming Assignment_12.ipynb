{
 "cells": [
  {
   "cell_type": "markdown",
   "id": "b7231b20",
   "metadata": {},
   "source": [
    "# Python Basic Programming Assignment 12\n",
    "-------------"
   ]
  },
  {
   "cell_type": "markdown",
   "id": "d2ec324d",
   "metadata": {},
   "source": [
    "### 1. Write a Python program to Extract Unique values dictionary values?"
   ]
  },
  {
   "cell_type": "code",
   "execution_count": 1,
   "id": "7c5872c3",
   "metadata": {},
   "outputs": [
    {
     "name": "stdout",
     "output_type": "stream",
     "text": [
      "Unique values: [1, 2, 3]\n"
     ]
    }
   ],
   "source": [
    "def extract_unique_values(dictionary):\n",
    "    unique_values = set(dictionary.values())\n",
    "    return list(unique_values)\n",
    "\n",
    "# Example usage\n",
    "my_dict = {'a': 1, 'b': 2, 'c': 1, 'd': 3, 'e': 2}\n",
    "\n",
    "# Extracting unique values\n",
    "unique_values = extract_unique_values(my_dict)\n",
    "\n",
    "# Printing the unique values\n",
    "print(\"Unique values:\", unique_values)\n"
   ]
  },
  {
   "cell_type": "markdown",
   "id": "203bcbc3",
   "metadata": {},
   "source": [
    "### 2. Write a Python program to find the sum of all items in a dictionary?"
   ]
  },
  {
   "cell_type": "code",
   "execution_count": 2,
   "id": "af9eaa72",
   "metadata": {},
   "outputs": [
    {
     "name": "stdout",
     "output_type": "stream",
     "text": [
      "Sum of all items: 35\n"
     ]
    }
   ],
   "source": [
    "def sum_items(dictionary):\n",
    "    total_sum = sum(dictionary.values())\n",
    "    return total_sum\n",
    "\n",
    "# Example usage\n",
    "my_dict = {'a': 10, 'b': 5, 'c': 8, 'd': 12}\n",
    "\n",
    "# Finding the sum of all items\n",
    "items_sum = sum_items(my_dict)\n",
    "\n",
    "# Printing the sum\n",
    "print(\"Sum of all items:\", items_sum)\n"
   ]
  },
  {
   "cell_type": "markdown",
   "id": "edfbc682",
   "metadata": {},
   "source": [
    "### 3. Write a Python program to Merging two Dictionaries?"
   ]
  },
  {
   "cell_type": "code",
   "execution_count": 3,
   "id": "521c7303",
   "metadata": {},
   "outputs": [
    {
     "name": "stdout",
     "output_type": "stream",
     "text": [
      "Merged dictionary: {'a': 1, 'b': 2, 'c': 3, 'd': 4}\n"
     ]
    }
   ],
   "source": [
    "def merge_dictionaries(dict1, dict2):\n",
    "    merged_dict = {**dict1, **dict2}\n",
    "    return merged_dict\n",
    "\n",
    "# Example usage\n",
    "dict1 = {'a': 1, 'b': 2}\n",
    "dict2 = {'c': 3, 'd': 4}\n",
    "\n",
    "# Merging the dictionaries\n",
    "merged_dict = merge_dictionaries(dict1, dict2)\n",
    "\n",
    "# Printing the merged dictionary\n",
    "print(\"Merged dictionary:\", merged_dict)\n"
   ]
  },
  {
   "cell_type": "markdown",
   "id": "62eaf687",
   "metadata": {},
   "source": [
    "### 4. Write a Python program to convert key-values list to flat dictionary?"
   ]
  },
  {
   "cell_type": "code",
   "execution_count": 4,
   "id": "fbe78c54",
   "metadata": {},
   "outputs": [
    {
     "name": "stdout",
     "output_type": "stream",
     "text": [
      "Flat dictionary: {'a': 1, 'b': 2, 'c': 3, 'd': 4}\n"
     ]
    }
   ],
   "source": [
    "def convert_to_flat_dictionary(key_value_list):\n",
    "    flat_dict = {}\n",
    "    for key, value in key_value_list:\n",
    "        flat_dict[key] = value\n",
    "    return flat_dict\n",
    "\n",
    "# Example usage\n",
    "key_value_list = [(\"a\", 1), (\"b\", 2), (\"c\", 3), (\"d\", 4)]\n",
    "\n",
    "# Converting to a flat dictionary\n",
    "flat_dictionary = convert_to_flat_dictionary(key_value_list)\n",
    "\n",
    "# Printing the flat dictionary\n",
    "print(\"Flat dictionary:\", flat_dictionary)\n"
   ]
  },
  {
   "cell_type": "markdown",
   "id": "fcc5015f",
   "metadata": {},
   "source": [
    "### 5. Write a Python program to insertion at the beginning in OrderedDict?"
   ]
  },
  {
   "cell_type": "code",
   "execution_count": 5,
   "id": "1919c2dc",
   "metadata": {},
   "outputs": [
    {
     "name": "stdout",
     "output_type": "stream",
     "text": [
      "Updated OrderedDict: OrderedDict([('x', 0), ('a', 1), ('b', 2), ('c', 3)])\n"
     ]
    }
   ],
   "source": [
    "from collections import OrderedDict\n",
    "\n",
    "def insert_at_beginning(ordered_dict, key, value):\n",
    "    ordered_dict[key] = value\n",
    "    ordered_dict.move_to_end(key, last=False)\n",
    "\n",
    "# Example usage\n",
    "my_ordered_dict = OrderedDict([('a', 1), ('b', 2), ('c', 3)])\n",
    "\n",
    "# Inserting at the beginning\n",
    "insert_at_beginning(my_ordered_dict, 'x', 0)\n",
    "\n",
    "# Printing the updated OrderedDict\n",
    "print(\"Updated OrderedDict:\", my_ordered_dict)\n"
   ]
  },
  {
   "cell_type": "markdown",
   "id": "5978c9ab",
   "metadata": {},
   "source": [
    "### 6. Write a Python program to check order of character in string using OrderedDict()?"
   ]
  },
  {
   "cell_type": "code",
   "execution_count": 6,
   "id": "74a372a0",
   "metadata": {},
   "outputs": [
    {
     "name": "stdout",
     "output_type": "stream",
     "text": [
      "Pattern is not ordered in the string.\n"
     ]
    }
   ],
   "source": [
    "from collections import OrderedDict\n",
    "\n",
    "def check_order_of_characters(string, pattern):\n",
    "    char_dict = OrderedDict()\n",
    "\n",
    "    for char in string:\n",
    "        char_dict[char] = char_dict.get(char, 0) + 1\n",
    "\n",
    "    pattern_dict = OrderedDict()\n",
    "\n",
    "    for char in pattern:\n",
    "        pattern_dict[char] = pattern_dict.get(char, 0) + 1\n",
    "\n",
    "    return list(pattern_dict.keys()) == list(char_dict.keys())\n",
    "\n",
    "# Example usage\n",
    "my_string = \"Hello, World!\"\n",
    "my_pattern = \"eoo\"\n",
    "\n",
    "# Checking the order of characters\n",
    "is_ordered = check_order_of_characters(my_string, my_pattern)\n",
    "\n",
    "# Printing the result\n",
    "if is_ordered:\n",
    "    print(\"Pattern is ordered in the string.\")\n",
    "else:\n",
    "    print(\"Pattern is not ordered in the string.\")\n"
   ]
  },
  {
   "cell_type": "markdown",
   "id": "f330da77",
   "metadata": {},
   "source": [
    "### 7. Write a Python program to sort Python Dictionaries by Key or Value?"
   ]
  },
  {
   "cell_type": "code",
   "execution_count": 7,
   "id": "0a3b4b8e",
   "metadata": {},
   "outputs": [
    {
     "name": "stdout",
     "output_type": "stream",
     "text": [
      "Sorted by key: {'a': 1, 'b': 2, 'c': 3, 'd': 4}\n",
      "Sorted by value: {'a': 1, 'b': 2, 'c': 3, 'd': 4}\n"
     ]
    }
   ],
   "source": [
    "def sort_dictionary_by_key(dictionary):\n",
    "    sorted_dict = dict(sorted(dictionary.items()))\n",
    "    return sorted_dict\n",
    "\n",
    "def sort_dictionary_by_value(dictionary):\n",
    "    sorted_dict = dict(sorted(dictionary.items(), key=lambda x: x[1]))\n",
    "    return sorted_dict\n",
    "\n",
    "# Example usage\n",
    "my_dict = {'b': 2, 'a': 1, 'd': 4, 'c': 3}\n",
    "\n",
    "# Sorting the dictionary by key\n",
    "sorted_dict_by_key = sort_dictionary_by_key(my_dict)\n",
    "print(\"Sorted by key:\", sorted_dict_by_key)\n",
    "\n",
    "# Sorting the dictionary by value\n",
    "sorted_dict_by_value = sort_dictionary_by_value(my_dict)\n",
    "print(\"Sorted by value:\", sorted_dict_by_value)\n"
   ]
  },
  {
   "cell_type": "code",
   "execution_count": null,
   "id": "5f075603",
   "metadata": {},
   "outputs": [],
   "source": []
  }
 ],
 "metadata": {
  "kernelspec": {
   "display_name": "Python 3 (ipykernel)",
   "language": "python",
   "name": "python3"
  },
  "language_info": {
   "codemirror_mode": {
    "name": "ipython",
    "version": 3
   },
   "file_extension": ".py",
   "mimetype": "text/x-python",
   "name": "python",
   "nbconvert_exporter": "python",
   "pygments_lexer": "ipython3",
   "version": "3.11.3"
  }
 },
 "nbformat": 4,
 "nbformat_minor": 5
}
