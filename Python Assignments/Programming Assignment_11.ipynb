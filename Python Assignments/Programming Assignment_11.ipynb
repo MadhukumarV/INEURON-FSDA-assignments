{
 "cells": [
  {
   "cell_type": "markdown",
   "id": "53c7e882",
   "metadata": {},
   "source": [
    "# Python Basic Programming Assignment 11\n",
    "--------------------"
   ]
  },
  {
   "cell_type": "markdown",
   "id": "051da140",
   "metadata": {},
   "source": [
    "### 1. Write a Python program to find words which are greater than given length k?"
   ]
  },
  {
   "cell_type": "code",
   "execution_count": 10,
   "id": "7dfc4a1f",
   "metadata": {},
   "outputs": [
    {
     "name": "stdout",
     "output_type": "stream",
     "text": [
      "Words greater than length 4 : ['Hello,', 'today?', \"you're\", 'doing', 'well.']\n"
     ]
    }
   ],
   "source": [
    "def find_words_greater_than_k(string, k):\n",
    "    words = string.split()\n",
    "    result = []\n",
    "\n",
    "    for word in words:\n",
    "        if len(word) > k:\n",
    "            result.append(word)\n",
    "\n",
    "    return result\n",
    "\n",
    "# Example usage\n",
    "my_string = \"Hello, how are you today? I hope you're doing well.\"\n",
    "k = 4\n",
    "\n",
    "# Finding words greater than length k\n",
    "words_greater_than_k = find_words_greater_than_k(my_string, k)\n",
    "\n",
    "# Printing the result\n",
    "print(\"Words greater than length\", k, \":\", words_greater_than_k)\n"
   ]
  },
  {
   "cell_type": "markdown",
   "id": "26719cbd",
   "metadata": {},
   "source": [
    "### 2. Write a Python program for removing i-th character from a string?"
   ]
  },
  {
   "cell_type": "code",
   "execution_count": 9,
   "id": "85a6ca85",
   "metadata": {},
   "outputs": [
    {
     "name": "stdout",
     "output_type": "stream",
     "text": [
      "New string: Hello, orld!\n"
     ]
    }
   ],
   "source": [
    "def remove_ith_character(string, index):\n",
    "    if index < 0 or index >= len(string):\n",
    "        return string\n",
    "\n",
    "    removed_string = string[:index] + string[index+1:]\n",
    "    return removed_string\n",
    "\n",
    "# Example usage\n",
    "my_string = \"Hello, World!\"\n",
    "index = 7\n",
    "\n",
    "# Removing the i-th character\n",
    "new_string = remove_ith_character(my_string, index)\n",
    "\n",
    "# Printing the new string\n",
    "print(\"New string:\", new_string)\n"
   ]
  },
  {
   "cell_type": "markdown",
   "id": "51ae6b0f",
   "metadata": {},
   "source": [
    "### 3. Write a Python program to split and join a string?"
   ]
  },
  {
   "cell_type": "code",
   "execution_count": 8,
   "id": "81245c7a",
   "metadata": {},
   "outputs": [
    {
     "name": "stdout",
     "output_type": "stream",
     "text": [
      "Joined string: Hello World How Are You?\n"
     ]
    }
   ],
   "source": [
    "def split_and_join(string, delimiter):\n",
    "    words = string.split(delimiter)\n",
    "    joined_string = \" \".join(words)\n",
    "    return joined_string\n",
    "\n",
    "# Example usage\n",
    "my_string = \"Hello,World,How,Are,You?\"\n",
    "delimiter = \",\"\n",
    "\n",
    "# Splitting and joining the string\n",
    "joined_string = split_and_join(my_string, delimiter)\n",
    "\n",
    "# Printing the joined string\n",
    "print(\"Joined string:\", joined_string)\n"
   ]
  },
  {
   "cell_type": "markdown",
   "id": "59079fe1",
   "metadata": {},
   "source": [
    "### 4. Write a Python to check if a given string is binary string or not?"
   ]
  },
  {
   "cell_type": "code",
   "execution_count": 7,
   "id": "067cb1e1",
   "metadata": {},
   "outputs": [
    {
     "name": "stdout",
     "output_type": "stream",
     "text": [
      "The string '101010' is a binary string.\n",
      "The string '110201' is not a binary string.\n"
     ]
    }
   ],
   "source": [
    "def is_binary_string(string):\n",
    "    for char in string:\n",
    "        if char != '0' and char != '1':\n",
    "            return False\n",
    "    return True\n",
    "\n",
    "# Example usage\n",
    "my_string1 = \"101010\"\n",
    "my_string2 = \"110201\"\n",
    "\n",
    "# Checking if the strings are binary\n",
    "is_binary1 = is_binary_string(my_string1)\n",
    "is_binary2 = is_binary_string(my_string2)\n",
    "\n",
    "# Printing the results\n",
    "if is_binary1:\n",
    "    print(f\"The string '{my_string1}' is a binary string.\")\n",
    "else:\n",
    "    print(f\"The string '{my_string1}' is not a binary string.\")\n",
    "\n",
    "if is_binary2:\n",
    "    print(f\"The string '{my_string2}' is a binary string.\")\n",
    "else:\n",
    "    print(f\"The string '{my_string2}' is not a binary string.\")\n"
   ]
  },
  {
   "cell_type": "markdown",
   "id": "4d6cf11a",
   "metadata": {},
   "source": [
    "### 5. Write a Python program to find uncommon words from two Strings?"
   ]
  },
  {
   "cell_type": "code",
   "execution_count": 6,
   "id": "5e66ac9e",
   "metadata": {},
   "outputs": [
    {
     "name": "stdout",
     "output_type": "stream",
     "text": [
      "Uncommon words: ['Hello', 'world', 'how', 'are', 'you?', 'Hi', 'there,', \"how's\", 'it', 'going?']\n"
     ]
    }
   ],
   "source": [
    "def find_uncommon_words(str1, str2):\n",
    "    words1 = str1.split()\n",
    "    words2 = str2.split()\n",
    "\n",
    "    uncommon_words = []\n",
    "\n",
    "    for word in words1:\n",
    "        if word not in words2 and word not in uncommon_words:\n",
    "            uncommon_words.append(word)\n",
    "\n",
    "    for word in words2:\n",
    "        if word not in words1 and word not in uncommon_words:\n",
    "            uncommon_words.append(word)\n",
    "\n",
    "    return uncommon_words\n",
    "\n",
    "# Example usage\n",
    "string1 = \"Hello world how are you?\"\n",
    "string2 = \"Hi there, how's it going?\"\n",
    "\n",
    "# Finding uncommon words\n",
    "uncommon_words = find_uncommon_words(string1, string2)\n",
    "\n",
    "# Printing the uncommon words\n",
    "print(\"Uncommon words:\", uncommon_words)\n"
   ]
  },
  {
   "cell_type": "markdown",
   "id": "e2b24677",
   "metadata": {},
   "source": [
    "### 6. Write a Python to find all duplicate characters in string?"
   ]
  },
  {
   "cell_type": "code",
   "execution_count": 5,
   "id": "4688f47a",
   "metadata": {},
   "outputs": [
    {
     "name": "stdout",
     "output_type": "stream",
     "text": [
      "Duplicate characters in the string: ['l', 'o']\n"
     ]
    }
   ],
   "source": [
    "def find_duplicate_characters(string):\n",
    "    duplicate_chars = []\n",
    "    seen_chars = set()\n",
    "\n",
    "    for char in string:\n",
    "        if char in seen_chars and char not in duplicate_chars:\n",
    "            duplicate_chars.append(char)\n",
    "        else:\n",
    "            seen_chars.add(char)\n",
    "\n",
    "    return duplicate_chars\n",
    "\n",
    "# Example usage\n",
    "my_string = \"Hello, World!\"\n",
    "\n",
    "# Finding duplicate characters in the string\n",
    "duplicate_characters = find_duplicate_characters(my_string)\n",
    "\n",
    "# Printing the duplicate characters\n",
    "print(\"Duplicate characters in the string:\", duplicate_characters)\n"
   ]
  },
  {
   "cell_type": "markdown",
   "id": "1a6af7e4",
   "metadata": {},
   "source": [
    "### 7. Write a Python Program to check if a string contains any special character?"
   ]
  },
  {
   "cell_type": "code",
   "execution_count": 4,
   "id": "1f62e523",
   "metadata": {},
   "outputs": [
    {
     "name": "stdout",
     "output_type": "stream",
     "text": [
      "Hello15\n",
      "string is accepted\n"
     ]
    }
   ],
   "source": [
    "import re\n",
    "\n",
    "def find(string):\n",
    "    special_char=re.compile('[@_!$%^&*()<>?/\\|}{~:]#')\n",
    "    \n",
    "    if special_char.search(string) == None:\n",
    "        return \"string is accepted\"\n",
    "    else:\n",
    "        return \"string not accpeted\"\n",
    "   \n",
    "\n",
    "s=\"Hello15\"\n",
    "print(s)\n",
    "print(find(s))"
   ]
  },
  {
   "cell_type": "code",
   "execution_count": null,
   "id": "37d28b3e",
   "metadata": {},
   "outputs": [],
   "source": []
  }
 ],
 "metadata": {
  "kernelspec": {
   "display_name": "Python 3 (ipykernel)",
   "language": "python",
   "name": "python3"
  },
  "language_info": {
   "codemirror_mode": {
    "name": "ipython",
    "version": 3
   },
   "file_extension": ".py",
   "mimetype": "text/x-python",
   "name": "python",
   "nbconvert_exporter": "python",
   "pygments_lexer": "ipython3",
   "version": "3.11.3"
  }
 },
 "nbformat": 4,
 "nbformat_minor": 5
}
